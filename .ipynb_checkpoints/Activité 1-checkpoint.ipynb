{
 "cells": [
  {
   "cell_type": "code",
   "execution_count": 1,
   "metadata": {},
   "outputs": [],
   "source": [
    "import numpy as np\n",
    "import pandas as pd\n",
    "import seaborn as sns\n",
    "import matplotlib.pyplot as plt\n",
    "import statsmodels.api as sm\n",
    "import statsmodels.formula.api as smf"
   ]
  },
  {
   "cell_type": "markdown",
   "metadata": {},
   "source": [
    "# Import et préparation du Dataset"
   ]
  },
  {
   "cell_type": "code",
   "execution_count": 2,
   "metadata": {},
   "outputs": [
    {
     "data": {
      "text/html": [
       "<div>\n",
       "<style scoped>\n",
       "    .dataframe tbody tr th:only-of-type {\n",
       "        vertical-align: middle;\n",
       "    }\n",
       "\n",
       "    .dataframe tbody tr th {\n",
       "        vertical-align: top;\n",
       "    }\n",
       "\n",
       "    .dataframe thead th {\n",
       "        text-align: right;\n",
       "    }\n",
       "</style>\n",
       "<table border=\"1\" class=\"dataframe\">\n",
       "  <thead>\n",
       "    <tr style=\"text-align: right;\">\n",
       "      <th></th>\n",
       "      <th>IDBASE</th>\n",
       "      <th>TYPEEMPLACEMENT</th>\n",
       "      <th>DOMANIALITE</th>\n",
       "      <th>ARRONDISSEMENT</th>\n",
       "      <th>COMPLEMENTADRESSE</th>\n",
       "      <th>NUMERO</th>\n",
       "      <th>LIEU / ADRESSE</th>\n",
       "      <th>IDEMPLACEMENT</th>\n",
       "      <th>LIBELLEFRANCAIS</th>\n",
       "      <th>GENRE</th>\n",
       "      <th>ESPECE</th>\n",
       "      <th>VARIETEOUCULTIVAR</th>\n",
       "      <th>CIRCONFERENCEENCM</th>\n",
       "      <th>HAUTEUR (m)</th>\n",
       "      <th>STADEDEVELOPPEMENT</th>\n",
       "      <th>REMARQUABLE</th>\n",
       "      <th>geo_point_2d</th>\n",
       "    </tr>\n",
       "  </thead>\n",
       "  <tbody>\n",
       "    <tr>\n",
       "      <th>0</th>\n",
       "      <td>123704.0</td>\n",
       "      <td>Arbre</td>\n",
       "      <td>Jardin</td>\n",
       "      <td>PARIS 12E ARRDT</td>\n",
       "      <td>NaN</td>\n",
       "      <td>NaN</td>\n",
       "      <td>SQUARE CHARLES PEGUY</td>\n",
       "      <td>00000148</td>\n",
       "      <td>Epicéa</td>\n",
       "      <td>Picea</td>\n",
       "      <td>pungens f. Glauca</td>\n",
       "      <td>NaN</td>\n",
       "      <td>45.0</td>\n",
       "      <td>6.0</td>\n",
       "      <td>NaN</td>\n",
       "      <td>NaN</td>\n",
       "      <td>48.8391832608, 2.40714227176</td>\n",
       "    </tr>\n",
       "    <tr>\n",
       "      <th>1</th>\n",
       "      <td>139253.0</td>\n",
       "      <td>Arbre</td>\n",
       "      <td>Jardin</td>\n",
       "      <td>PARIS 16E ARRDT</td>\n",
       "      <td>NaN</td>\n",
       "      <td>NaN</td>\n",
       "      <td>SQUARE ROGER COQUOIN / 14 AVENUE FERDINAND BUI...</td>\n",
       "      <td>000102004</td>\n",
       "      <td>Epicéa</td>\n",
       "      <td>Picea</td>\n",
       "      <td>abies</td>\n",
       "      <td>NaN</td>\n",
       "      <td>90.0</td>\n",
       "      <td>11.0</td>\n",
       "      <td>A</td>\n",
       "      <td>0.0</td>\n",
       "      <td>48.8355222611, 2.25491902714</td>\n",
       "    </tr>\n",
       "    <tr>\n",
       "      <th>2</th>\n",
       "      <td>139935.0</td>\n",
       "      <td>Arbre</td>\n",
       "      <td>Jardin</td>\n",
       "      <td>PARIS 19E ARRDT</td>\n",
       "      <td>NaN</td>\n",
       "      <td>NaN</td>\n",
       "      <td>MAIL MARCEL ACHARD</td>\n",
       "      <td>00000098</td>\n",
       "      <td>Epicéa</td>\n",
       "      <td>Picea</td>\n",
       "      <td>pungens</td>\n",
       "      <td>'Koster'</td>\n",
       "      <td>40.0</td>\n",
       "      <td>0.0</td>\n",
       "      <td>NaN</td>\n",
       "      <td>NaN</td>\n",
       "      <td>48.8736777717, 2.37616705916</td>\n",
       "    </tr>\n",
       "    <tr>\n",
       "      <th>3</th>\n",
       "      <td>199805.0</td>\n",
       "      <td>Arbre</td>\n",
       "      <td>DJS</td>\n",
       "      <td>PARIS 20E ARRDT</td>\n",
       "      <td>NaN</td>\n",
       "      <td>NaN</td>\n",
       "      <td>CENTRE SPORTIF LAGNY / 21 RUE DE LAGNY</td>\n",
       "      <td>000202003</td>\n",
       "      <td>Epicéa</td>\n",
       "      <td>Picea</td>\n",
       "      <td>pungens</td>\n",
       "      <td>NaN</td>\n",
       "      <td>55.0</td>\n",
       "      <td>12.0</td>\n",
       "      <td>JA</td>\n",
       "      <td>0.0</td>\n",
       "      <td>48.8498472892, 2.40182005017</td>\n",
       "    </tr>\n",
       "    <tr>\n",
       "      <th>4</th>\n",
       "      <td>118505.0</td>\n",
       "      <td>Arbre</td>\n",
       "      <td>Jardin</td>\n",
       "      <td>PARIS 11E ARRDT</td>\n",
       "      <td>NaN</td>\n",
       "      <td>NaN</td>\n",
       "      <td>SQUARE DAMIA</td>\n",
       "      <td>00000038</td>\n",
       "      <td>Epicéa</td>\n",
       "      <td>Picea</td>\n",
       "      <td>pungens</td>\n",
       "      <td>NaN</td>\n",
       "      <td>20.0</td>\n",
       "      <td>5.0</td>\n",
       "      <td>NaN</td>\n",
       "      <td>NaN</td>\n",
       "      <td>48.854940072, 2.39514450825</td>\n",
       "    </tr>\n",
       "  </tbody>\n",
       "</table>\n",
       "</div>"
      ],
      "text/plain": [
       "     IDBASE TYPEEMPLACEMENT DOMANIALITE   ARRONDISSEMENT COMPLEMENTADRESSE  \\\n",
       "0  123704.0           Arbre      Jardin  PARIS 12E ARRDT               NaN   \n",
       "1  139253.0           Arbre      Jardin  PARIS 16E ARRDT               NaN   \n",
       "2  139935.0           Arbre      Jardin  PARIS 19E ARRDT               NaN   \n",
       "3  199805.0           Arbre         DJS  PARIS 20E ARRDT               NaN   \n",
       "4  118505.0           Arbre      Jardin  PARIS 11E ARRDT               NaN   \n",
       "\n",
       "   NUMERO                                     LIEU / ADRESSE IDEMPLACEMENT  \\\n",
       "0     NaN                               SQUARE CHARLES PEGUY      00000148   \n",
       "1     NaN  SQUARE ROGER COQUOIN / 14 AVENUE FERDINAND BUI...     000102004   \n",
       "2     NaN                                 MAIL MARCEL ACHARD      00000098   \n",
       "3     NaN             CENTRE SPORTIF LAGNY / 21 RUE DE LAGNY     000202003   \n",
       "4     NaN                                       SQUARE DAMIA      00000038   \n",
       "\n",
       "  LIBELLEFRANCAIS  GENRE             ESPECE VARIETEOUCULTIVAR  \\\n",
       "0          Epicéa  Picea  pungens f. Glauca               NaN   \n",
       "1          Epicéa  Picea              abies               NaN   \n",
       "2          Epicéa  Picea            pungens          'Koster'   \n",
       "3          Epicéa  Picea            pungens               NaN   \n",
       "4          Epicéa  Picea            pungens               NaN   \n",
       "\n",
       "   CIRCONFERENCEENCM  HAUTEUR (m) STADEDEVELOPPEMENT  REMARQUABLE  \\\n",
       "0               45.0          6.0                NaN          NaN   \n",
       "1               90.0         11.0                  A          0.0   \n",
       "2               40.0          0.0                NaN          NaN   \n",
       "3               55.0         12.0                 JA          0.0   \n",
       "4               20.0          5.0                NaN          NaN   \n",
       "\n",
       "                   geo_point_2d  \n",
       "0  48.8391832608, 2.40714227176  \n",
       "1  48.8355222611, 2.25491902714  \n",
       "2  48.8736777717, 2.37616705916  \n",
       "3  48.8498472892, 2.40182005017  \n",
       "4   48.854940072, 2.39514450825  "
      ]
     },
     "execution_count": 2,
     "metadata": {},
     "output_type": "execute_result"
    }
   ],
   "source": [
    "data = pd.read_csv(\"les-arbres.csv\", sep=\";\")\n",
    "data.head()"
   ]
  },
  {
   "cell_type": "code",
   "execution_count": 3,
   "metadata": {},
   "outputs": [
    {
     "name": "stdout",
     "output_type": "stream",
     "text": [
      "False\n",
      "False\n",
      "False\n",
      "False\n"
     ]
    }
   ],
   "source": [
    "print(any(pd.isnull(data[\"CIRCONFERENCEENCM\"])))\n",
    "print(any(pd.isna(data[\"CIRCONFERENCEENCM\"])))\n",
    "print(any(pd.isnull(data[\"HAUTEUR (m)\"])))\n",
    "print(any(pd.isna(data[\"HAUTEUR (m)\"])))"
   ]
  },
  {
   "cell_type": "code",
   "execution_count": 4,
   "metadata": {},
   "outputs": [
    {
     "data": {
      "text/html": [
       "<div>\n",
       "<style scoped>\n",
       "    .dataframe tbody tr th:only-of-type {\n",
       "        vertical-align: middle;\n",
       "    }\n",
       "\n",
       "    .dataframe tbody tr th {\n",
       "        vertical-align: top;\n",
       "    }\n",
       "\n",
       "    .dataframe thead th {\n",
       "        text-align: right;\n",
       "    }\n",
       "</style>\n",
       "<table border=\"1\" class=\"dataframe\">\n",
       "  <thead>\n",
       "    <tr style=\"text-align: right;\">\n",
       "      <th></th>\n",
       "      <th>IDBASE</th>\n",
       "      <th>TYPEEMPLACEMENT</th>\n",
       "      <th>DOMANIALITE</th>\n",
       "      <th>ARRONDISSEMENT</th>\n",
       "      <th>COMPLEMENTADRESSE</th>\n",
       "      <th>NUMERO</th>\n",
       "      <th>LIEU / ADRESSE</th>\n",
       "      <th>IDEMPLACEMENT</th>\n",
       "      <th>LIBELLEFRANCAIS</th>\n",
       "      <th>GENRE</th>\n",
       "      <th>ESPECE</th>\n",
       "      <th>VARIETEOUCULTIVAR</th>\n",
       "      <th>CIRCONFERENCEENCM</th>\n",
       "      <th>HAUTEUR (m)</th>\n",
       "      <th>STADEDEVELOPPEMENT</th>\n",
       "      <th>REMARQUABLE</th>\n",
       "      <th>geo_point_2d</th>\n",
       "    </tr>\n",
       "  </thead>\n",
       "  <tbody>\n",
       "    <tr>\n",
       "      <th>8</th>\n",
       "      <td>151597.0</td>\n",
       "      <td>Arbre</td>\n",
       "      <td>CIMETIERE</td>\n",
       "      <td>PARIS 12E ARRDT</td>\n",
       "      <td>NaN</td>\n",
       "      <td>NaN</td>\n",
       "      <td>CIMETIERE DE BERCY / DIV 6</td>\n",
       "      <td>D00000006003</td>\n",
       "      <td>Epicéa</td>\n",
       "      <td>Picea</td>\n",
       "      <td>abies</td>\n",
       "      <td>NaN</td>\n",
       "      <td>70.0</td>\n",
       "      <td>510.0</td>\n",
       "      <td>JA</td>\n",
       "      <td>0.0</td>\n",
       "      <td>48.8329619454, 2.39746869487</td>\n",
       "    </tr>\n",
       "    <tr>\n",
       "      <th>49</th>\n",
       "      <td>2007666.0</td>\n",
       "      <td>Arbre</td>\n",
       "      <td>Alignement</td>\n",
       "      <td>PARIS 15E ARRDT</td>\n",
       "      <td>N°10</td>\n",
       "      <td>NaN</td>\n",
       "      <td>RUE JONGKIND</td>\n",
       "      <td>000202001</td>\n",
       "      <td>Epicéa</td>\n",
       "      <td>Picea</td>\n",
       "      <td>n. sp.</td>\n",
       "      <td>NaN</td>\n",
       "      <td>45.0</td>\n",
       "      <td>88.0</td>\n",
       "      <td>A</td>\n",
       "      <td>0.0</td>\n",
       "      <td>48.8389896315, 2.27994541179</td>\n",
       "    </tr>\n",
       "  </tbody>\n",
       "</table>\n",
       "</div>"
      ],
      "text/plain": [
       "       IDBASE TYPEEMPLACEMENT DOMANIALITE   ARRONDISSEMENT COMPLEMENTADRESSE  \\\n",
       "8    151597.0           Arbre   CIMETIERE  PARIS 12E ARRDT               NaN   \n",
       "49  2007666.0           Arbre  Alignement  PARIS 15E ARRDT              N°10   \n",
       "\n",
       "    NUMERO              LIEU / ADRESSE IDEMPLACEMENT LIBELLEFRANCAIS  GENRE  \\\n",
       "8      NaN  CIMETIERE DE BERCY / DIV 6  D00000006003          Epicéa  Picea   \n",
       "49     NaN                RUE JONGKIND     000202001          Epicéa  Picea   \n",
       "\n",
       "    ESPECE VARIETEOUCULTIVAR  CIRCONFERENCEENCM  HAUTEUR (m)  \\\n",
       "8    abies               NaN               70.0        510.0   \n",
       "49  n. sp.               NaN               45.0         88.0   \n",
       "\n",
       "   STADEDEVELOPPEMENT  REMARQUABLE                  geo_point_2d  \n",
       "8                  JA          0.0  48.8329619454, 2.39746869487  \n",
       "49                  A          0.0  48.8389896315, 2.27994541179  "
      ]
     },
     "execution_count": 4,
     "metadata": {},
     "output_type": "execute_result"
    }
   ],
   "source": [
    "data[data[\"HAUTEUR (m)\"] > 80]"
   ]
  },
  {
   "cell_type": "markdown",
   "metadata": {},
   "source": [
    "<p> Au vu de la circonférence des arbres de + de 80m, il semble qu'il y ait eu une erreur quant à l'unité utilisé ; <br/>\n",
    "    La hauteur de ces arbres est exprimée en cm et non en mètre, on pourrait changer les unités, mais je vais me contenter d'enlever les valeurs.</p>"
   ]
  },
  {
   "cell_type": "code",
   "execution_count": 5,
   "metadata": {},
   "outputs": [],
   "source": [
    "data = data.loc[data['HAUTEUR (m)'] < 80]"
   ]
  },
  {
   "cell_type": "markdown",
   "metadata": {},
   "source": [
    "<p> On change le nom des colonnes Hauteur et circonférence pour les avoir en attachées (utile pour après)"
   ]
  },
  {
   "cell_type": "code",
   "execution_count": 6,
   "metadata": {},
   "outputs": [],
   "source": [
    "data = data.rename(columns={'HAUTEUR (m)':\"haut\"})\n",
    "data = data.rename(columns={'CIRCONFERENCEENCM':\"circ\"})"
   ]
  },
  {
   "cell_type": "markdown",
   "metadata": {},
   "source": [
    "# Affichage du nuage de points"
   ]
  },
  {
   "cell_type": "code",
   "execution_count": 12,
   "metadata": {},
   "outputs": [
    {
     "data": {
      "image/png": "[encoded data removed]",
      "text/plain": [
       "<Figure size 432x288 with 1 Axes>"
      ]
     },
     "metadata": {},
     "output_type": "display_data"
    }
   ],
   "source": [
    "sns.set()\n",
    "\n",
    "ax = sns.scatterplot(x=\"haut\", y=\"circ\", data=data)\n",
    "ax.set(xlabel='Hauteur (m)', ylabel=\"Circonférence (en cm)\")\n",
    "ax.xaxis.set_major_locator(plt.MaxNLocator(10))\n",
    "fig = ax.get_figure()\n",
    "fig.savefig(\"Graphiques/nuage_de_points.png\")"
   ]
  },
  {
   "cell_type": "markdown",
   "metadata": {},
   "source": [
    "<p> Il semble bien que l'on ait une relation linéaire sur ce nuage de points ; <br/>\n",
    "    Vérifions par le calcul : </p>"
   ]
  },
  {
   "cell_type": "markdown",
   "metadata": {},
   "source": [
    "# Régression linéaire "
   ]
  },
  {
   "cell_type": "code",
   "execution_count": 13,
   "metadata": {},
   "outputs": [],
   "source": [
    "reg_simp = smf.ols('circ ~ haut', data=data).fit()"
   ]
  },
  {
   "cell_type": "code",
   "execution_count": 14,
   "metadata": {},
   "outputs": [
    {
     "name": "stdout",
     "output_type": "stream",
     "text": [
      "                            OLS Regression Results                            \n",
      "==============================================================================\n",
      "Dep. Variable:                   circ   R-squared:                       0.624\n",
      "Model:                            OLS   Adj. R-squared:                  0.622\n",
      "Method:                 Least Squares   F-statistic:                     320.7\n",
      "Date:                Fri, 26 Apr 2019   Prob (F-statistic):           6.76e-43\n",
      "Time:                        22:57:42   Log-Likelihood:                -906.01\n",
      "No. Observations:                 195   AIC:                             1816.\n",
      "Df Residuals:                     193   BIC:                             1823.\n",
      "Df Model:                           1                                         \n",
      "Covariance Type:            nonrobust                                         \n",
      "==============================================================================\n",
      "                 coef    std err          t      P>|t|      [0.025      0.975]\n",
      "------------------------------------------------------------------------------\n",
      "Intercept     12.3682      2.817      4.390      0.000       6.811      17.925\n",
      "haut           6.0990      0.341     17.909      0.000       5.427       6.771\n",
      "==============================================================================\n",
      "Omnibus:                       60.913   Durbin-Watson:                   1.991\n",
      "Prob(Omnibus):                  0.000   Jarque-Bera (JB):              124.994\n",
      "Skew:                           1.490   Prob(JB):                     7.21e-28\n",
      "Kurtosis:                       5.550   Cond. No.                         13.0\n",
      "==============================================================================\n",
      "\n",
      "Warnings:\n",
      "[1] Standard Errors assume that the covariance matrix of the errors is correctly specified.\n"
     ]
    }
   ],
   "source": [
    "print(reg_simp.summary())"
   ]
  },
  {
   "cell_type": "code",
   "execution_count": 15,
   "metadata": {},
   "outputs": [
    {
     "name": "stdout",
     "output_type": "stream",
     "text": [
      "Le coéfficient de Détermination est de :  0.62\n",
      "\n",
      "\n",
      "La p_valeur est égale à : 6.760196809326583e-43\n"
     ]
    }
   ],
   "source": [
    "r_squared = reg_simp.rsquared\n",
    "print(\"Le coéfficient de Détermination est de : \", r_squared.round(2))\n",
    "print('\\n')\n",
    "p_value = reg_simp.pvalues[1]\n",
    "print(\"La p_valeur est égale à :\", p_value)"
   ]
  },
  {
   "cell_type": "markdown",
   "metadata": {},
   "source": [
    "<p> Le nuage originel est assez dispersé (surtout dans les grandes valeurs de circonférence), cela explique que notre coéfficient de détermination soit seulement à 0,62 </p>\n",
    "<p> La p_valeur est inférieur à Alpha (niveau de test de 5%), on rejette donc l'hypothèse selon laquelle le paramètre vaut 0 ; On voit ici que la variable circonférence est significative. <p>"
   ]
  },
  {
   "cell_type": "code",
   "execution_count": null,
   "metadata": {},
   "outputs": [],
   "source": []
  }
 ],
 "metadata": {
  "kernelspec": {
   "display_name": "Python 3",
   "language": "python",
   "name": "python3"
  },
  "language_info": {
   "codemirror_mode": {
    "name": "ipython",
    "version": 3
   },
   "file_extension": ".py",
   "mimetype": "text/x-python",
   "name": "python",
   "nbconvert_exporter": "python",
   "pygments_lexer": "ipython3",
   "version": "3.7.1"
  },
  "toc": {
   "base_numbering": 1,
   "nav_menu": {},
   "number_sections": true,
   "sideBar": true,
   "skip_h1_title": false,
   "title_cell": "Table of Contents",
   "title_sidebar": "Contents",
   "toc_cell": false,
   "toc_position": {},
   "toc_section_display": true,
   "toc_window_display": false
  }
 },
 "nbformat": 4,
 "nbformat_minor": 2
}
